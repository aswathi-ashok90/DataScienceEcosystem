{
 "cells": [
  {
   "cell_type": "markdown",
   "id": "f7da48e8-f704-433a-9a65-b9d6bd9c703e",
   "metadata": {},
   "source": [
    "# Data Science Tools and Ecosystem"
   ]
  },
  {
   "cell_type": "markdown",
   "id": "0e8fcebb-03f8-4f9e-bdb7-fb33e314463e",
   "metadata": {},
   "source": [
    "In this notebook, Data Science Tools and Ecosystem are summarized."
   ]
  },
  {
   "cell_type": "markdown",
   "id": "3212cdb2-7eeb-4226-9171-1327ed9ae3bc",
   "metadata": {},
   "source": [
    "Some of the popular languages that Data Scientists use are:\n",
    "1. Python\n",
    "2. R\n",
    "3. Julia"
   ]
  },
  {
   "cell_type": "markdown",
   "id": "d0feeeb5-99d0-4016-aa53-6b9053ca20aa",
   "metadata": {},
   "source": [
    "Some of the commonly used libraries used by Data Scientists include:\n",
    "1. NumPy\n",
    "2. Pandas\n",
    "3. Matplotlib"
   ]
  },
  {
   "cell_type": "markdown",
   "id": "09dbf188-8a8f-42bb-8e40-540fc53194d1",
   "metadata": {
    "jp-MarkdownHeadingCollapsed": true
   },
   "source": [
    "|Data Science Tools|\n",
    "|------------------|\n",
    "|MongoDB|\n",
    "|CouchDB|\n",
    "|Cassandra|"
   ]
  },
  {
   "cell_type": "markdown",
   "id": "f09e3127-3acb-4dfb-a2be-93e914c44311",
   "metadata": {},
   "source": [
    "### Below are a few examples of evaluating arithmetic expressions in Python"
   ]
  },
  {
   "cell_type": "code",
   "execution_count": 3,
   "id": "68999a4f-9840-49dd-bc18-ba4a1b5ecacb",
   "metadata": {},
   "outputs": [
    {
     "data": {
      "text/plain": [
       "17"
      ]
     },
     "execution_count": 3,
     "metadata": {},
     "output_type": "execute_result"
    }
   ],
   "source": [
    "# This a simple arithmetic expression to mutiply then add integers.\n",
    "(3*4)+5"
   ]
  },
  {
   "cell_type": "code",
   "execution_count": 4,
   "id": "ca03d84b-5a19-491e-bb98-9f4300c9a9c5",
   "metadata": {},
   "outputs": [
    {
     "data": {
      "text/plain": [
       "3.3333333333333335"
      ]
     },
     "execution_count": 4,
     "metadata": {},
     "output_type": "execute_result"
    }
   ],
   "source": [
    "# This will convert 200 minutes to hours by diving by 60\n",
    "200/60"
   ]
  },
  {
   "cell_type": "markdown",
   "id": "37b76c36-978f-44a9-9910-b8b2f27b82d3",
   "metadata": {},
   "source": [
    "**Objectives:**\n",
    "-  Python\n",
    "-  R\n",
    "-  Julia\n",
    "-  Java\n",
    "-  SQL"
   ]
  },
  {
   "cell_type": "markdown",
   "id": "549ab3da-532e-4dc1-a269-c728c8ecc054",
   "metadata": {},
   "source": [
    "## Author\n",
    "Aswathi Ashok Kollanandi Kundanchery"
   ]
  },
  {
   "cell_type": "code",
   "execution_count": null,
   "id": "d1554c58-5af7-4deb-beac-fa3ed12bf08f",
   "metadata": {},
   "outputs": [],
   "source": []
  }
 ],
 "metadata": {
  "kernelspec": {
   "display_name": "Python 3 (ipykernel)",
   "language": "python",
   "name": "python3"
  },
  "language_info": {
   "codemirror_mode": {
    "name": "ipython",
    "version": 3
   },
   "file_extension": ".py",
   "mimetype": "text/x-python",
   "name": "python",
   "nbconvert_exporter": "python",
   "pygments_lexer": "ipython3",
   "version": "3.11.9"
  }
 },
 "nbformat": 4,
 "nbformat_minor": 5
}
